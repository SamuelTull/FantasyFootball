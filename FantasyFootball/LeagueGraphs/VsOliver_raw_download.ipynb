{
 "cells": [
  {
   "cell_type": "code",
   "execution_count": 50,
   "id": "d46aac70",
   "metadata": {},
   "outputs": [],
   "source": [
    "import json\n",
    "import pandas as pd\n",
    "import seaborn as sns\n",
    "import matplotlib.pyplot as plt"
   ]
  },
  {
   "cell_type": "code",
   "execution_count": 4,
   "id": "7830d6b3",
   "metadata": {},
   "outputs": [],
   "source": [
    "with open(\"FantasyVsOliver-1653263235612.json\") as f:\n",
    "    jsondata= json.load(f)"
   ]
  },
  {
   "cell_type": "code",
   "execution_count": 18,
   "id": "11f8e921",
   "metadata": {},
   "outputs": [
    {
     "name": "stdout",
     "output_type": "stream",
     "text": [
      "league\n",
      "league_entries\n",
      "matches\n",
      "standings\n"
     ]
    }
   ],
   "source": [
    "for i in jsondata:\n",
    "    print(i)"
   ]
  },
  {
   "cell_type": "code",
   "execution_count": 57,
   "id": "e9c4b645",
   "metadata": {},
   "outputs": [],
   "source": [
    "names = {447012:\"Tull\",451827:\"Oliver\"}"
   ]
  },
  {
   "cell_type": "code",
   "execution_count": 30,
   "id": "1ca4f87d",
   "metadata": {
    "scrolled": true
   },
   "outputs": [
    {
     "data": {
      "text/html": [
       "<div>\n",
       "<style scoped>\n",
       "    .dataframe tbody tr th:only-of-type {\n",
       "        vertical-align: middle;\n",
       "    }\n",
       "\n",
       "    .dataframe tbody tr th {\n",
       "        vertical-align: top;\n",
       "    }\n",
       "\n",
       "    .dataframe thead th {\n",
       "        text-align: right;\n",
       "    }\n",
       "</style>\n",
       "<table border=\"1\" class=\"dataframe\">\n",
       "  <thead>\n",
       "    <tr style=\"text-align: right;\">\n",
       "      <th></th>\n",
       "      <th>event</th>\n",
       "      <th>finished</th>\n",
       "      <th>league_entry_1</th>\n",
       "      <th>league_entry_1_points</th>\n",
       "      <th>league_entry_2</th>\n",
       "      <th>league_entry_2_points</th>\n",
       "      <th>started</th>\n",
       "      <th>winning_league_entry</th>\n",
       "      <th>winning_method</th>\n",
       "    </tr>\n",
       "  </thead>\n",
       "  <tbody>\n",
       "    <tr>\n",
       "      <th>0</th>\n",
       "      <td>1</td>\n",
       "      <td>True</td>\n",
       "      <td>451827</td>\n",
       "      <td>59</td>\n",
       "      <td>447012</td>\n",
       "      <td>36</td>\n",
       "      <td>True</td>\n",
       "      <td>None</td>\n",
       "      <td>None</td>\n",
       "    </tr>\n",
       "    <tr>\n",
       "      <th>1</th>\n",
       "      <td>2</td>\n",
       "      <td>True</td>\n",
       "      <td>451827</td>\n",
       "      <td>34</td>\n",
       "      <td>447012</td>\n",
       "      <td>28</td>\n",
       "      <td>True</td>\n",
       "      <td>None</td>\n",
       "      <td>None</td>\n",
       "    </tr>\n",
       "    <tr>\n",
       "      <th>2</th>\n",
       "      <td>3</td>\n",
       "      <td>True</td>\n",
       "      <td>451827</td>\n",
       "      <td>42</td>\n",
       "      <td>447012</td>\n",
       "      <td>30</td>\n",
       "      <td>True</td>\n",
       "      <td>None</td>\n",
       "      <td>None</td>\n",
       "    </tr>\n",
       "    <tr>\n",
       "      <th>3</th>\n",
       "      <td>4</td>\n",
       "      <td>True</td>\n",
       "      <td>451827</td>\n",
       "      <td>60</td>\n",
       "      <td>447012</td>\n",
       "      <td>44</td>\n",
       "      <td>True</td>\n",
       "      <td>None</td>\n",
       "      <td>None</td>\n",
       "    </tr>\n",
       "    <tr>\n",
       "      <th>4</th>\n",
       "      <td>5</td>\n",
       "      <td>True</td>\n",
       "      <td>451827</td>\n",
       "      <td>27</td>\n",
       "      <td>447012</td>\n",
       "      <td>46</td>\n",
       "      <td>True</td>\n",
       "      <td>None</td>\n",
       "      <td>None</td>\n",
       "    </tr>\n",
       "  </tbody>\n",
       "</table>\n",
       "</div>"
      ],
      "text/plain": [
       "   event  finished  league_entry_1  league_entry_1_points  league_entry_2  \\\n",
       "0      1      True          451827                     59          447012   \n",
       "1      2      True          451827                     34          447012   \n",
       "2      3      True          451827                     42          447012   \n",
       "3      4      True          451827                     60          447012   \n",
       "4      5      True          451827                     27          447012   \n",
       "\n",
       "   league_entry_2_points  started winning_league_entry winning_method  \n",
       "0                     36     True                 None           None  \n",
       "1                     28     True                 None           None  \n",
       "2                     30     True                 None           None  \n",
       "3                     44     True                 None           None  \n",
       "4                     46     True                 None           None  "
      ]
     },
     "execution_count": 30,
     "metadata": {},
     "output_type": "execute_result"
    }
   ],
   "source": [
    "MATCHES = pd.DataFrame(jsondata[\"matches\"])\n",
    "MATCHES.head()"
   ]
  },
  {
   "cell_type": "code",
   "execution_count": 92,
   "id": "83aca6fd",
   "metadata": {},
   "outputs": [],
   "source": [
    "n=2\n",
    "Cumulative_score = dict()\n",
    "for i in range(n):\n",
    "    name = MATCHES[\"league_entry_\"+str(i+1)][0]\n",
    "    scores = MATCHES[\"league_entry_\"+str(i+1)+\"_points\"]\n",
    "    Cumulative_score[name] = scores.cumsum().values"
   ]
  },
  {
   "cell_type": "code",
   "execution_count": 96,
   "id": "e592eed9",
   "metadata": {},
   "outputs": [
    {
     "data": {
      "image/png": "[encoded data removed]",
      "text/plain": [
       "<Figure size 432x288 with 1 Axes>"
      ]
     },
     "metadata": {
      "needs_background": "light"
     },
     "output_type": "display_data"
    }
   ],
   "source": [
    "fig,ax = plt.subplots()\n",
    "plt.title(\"Cumulative Score\")\n",
    "for name in names:\n",
    "    sns.lineplot(x = [i for i in range(1,39)],\n",
    "                 y = Cumulative_score[name], label = names[name]) "
   ]
  },
  {
   "cell_type": "code",
   "execution_count": 89,
   "id": "62bfd2ac",
   "metadata": {},
   "outputs": [],
   "source": [
    "Cumulative_points = dict()\n",
    "name_1 = MATCHES[\"league_entry_1\"][0]\n",
    "scores_1 = MATCHES[\"league_entry_1_points\"]\n",
    "name_2 = MATCHES[\"league_entry_2\"][0]\n",
    "scores_2 = MATCHES[\"league_entry_2_points\"]\n",
    "points_1 = [3 if scores_1[i] > scores_2[i] else 1 if scores_1[i] == scores_2[i] else 0 for i in range(38)]\n",
    "points_2 = [3 if scores_2[i] > scores_1[i] else 1 if scores_2[i] == scores_1[i] else 0 for i in range(38)]\n",
    "Cumulative_points[name_1] = pd.Series(points_1).cumsum().values\n",
    "Cumulative_points[name_2] = pd.Series(points_2).cumsum().values"
   ]
  },
  {
   "cell_type": "code",
   "execution_count": 95,
   "id": "e6cec210",
   "metadata": {},
   "outputs": [
    {
     "data": {
      "image/png": "[encoded data removed]",
      "text/plain": [
       "<Figure size 432x288 with 1 Axes>"
      ]
     },
     "metadata": {
      "needs_background": "light"
     },
     "output_type": "display_data"
    }
   ],
   "source": [
    "fig,ax = plt.subplots()\n",
    "plt.title(\"Cumulative Points\")\n",
    "for name in names:\n",
    "    sns.lineplot(x = [i for i in range(1,39)],\n",
    "                 y = Cumulative_points[name], label = names[name]) "
   ]
  },
  {
   "cell_type": "code",
   "execution_count": null,
   "id": "1b3ca947",
   "metadata": {},
   "outputs": [],
   "source": []
  }
 ],
 "metadata": {
  "kernelspec": {
   "display_name": "torch_env",
   "language": "python",
   "name": "torch_env"
  },
  "language_info": {
   "codemirror_mode": {
    "name": "ipython",
    "version": 3
   },
   "file_extension": ".py",
   "mimetype": "text/x-python",
   "name": "python",
   "nbconvert_exporter": "python",
   "pygments_lexer": "ipython3",
   "version": "3.9.7"
  }
 },
 "nbformat": 4,
 "nbformat_minor": 5
}
